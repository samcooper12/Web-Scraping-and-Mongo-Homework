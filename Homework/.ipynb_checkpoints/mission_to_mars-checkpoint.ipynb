{
 "cells": [
  {
   "cell_type": "code",
   "execution_count": 1,
   "metadata": {},
   "outputs": [],
   "source": [
    "#Scrape the NASA Mars News Site and collect the latest News Title and Paragraph Text. Assign the text to variables that you can reference later.\n",
    "import requests\n",
    "from bs4 import BeautifulSoup as bs\n",
    "from splinter import Browser\n",
    "import time"
   ]
  },
  {
   "cell_type": "code",
   "execution_count": 2,
   "metadata": {},
   "outputs": [],
   "source": [
    "url = \"https://mars.nasa.gov/news/?page=0&per_page=40&order=publish_date+desc%2Ccreated_at+desc&search=&category=19%2C165%2C184%2C204&blank_scope=Latest\""
   ]
  },
  {
   "cell_type": "code",
   "execution_count": 3,
   "metadata": {},
   "outputs": [],
   "source": [
    "response = requests.get(url)\n",
    "soup = bs(response.text, 'html.parser')\n",
    "body = soup.html.body\n",
    "# print(body.prettify())"
   ]
  },
  {
   "cell_type": "code",
   "execution_count": 4,
   "metadata": {},
   "outputs": [
    {
     "data": {
      "text/plain": [
       "'NASA Invites Students to Name Mars 2020 Rover'"
      ]
     },
     "execution_count": 4,
     "metadata": {},
     "output_type": "execute_result"
    }
   ],
   "source": [
    "first = soup.find('div', class_='content_title')\n",
    "first = first.text.strip()\n",
    "first"
   ]
  },
  {
   "cell_type": "code",
   "execution_count": 5,
   "metadata": {},
   "outputs": [
    {
     "name": "stdout",
     "output_type": "stream",
     "text": [
      "/usr/local/bin/chromedriver\r\n"
     ]
    }
   ],
   "source": [
    "!which chromedriver"
   ]
  },
  {
   "cell_type": "code",
   "execution_count": 6,
   "metadata": {},
   "outputs": [],
   "source": [
    "executable_path = {'executable_path': '/usr/local/bin/chromedriver'}\n",
    "browser = Browser('chrome', **executable_path, headless=False)\n",
    "url = 'https://www.jpl.nasa.gov/spaceimages/?search=&category=Mars'"
   ]
  },
  {
   "cell_type": "code",
   "execution_count": 7,
   "metadata": {},
   "outputs": [],
   "source": [
    "browser.visit(url)\n",
    "time.sleep(2)\n",
    "browser.find_by_id('full_image').first.click()\n",
    "# time.sleep(3)"
   ]
  },
  {
   "cell_type": "code",
   "execution_count": 8,
   "metadata": {},
   "outputs": [],
   "source": [
    "#browser.is_element_present_by_text('more info', wait_time=5)"
   ]
  },
  {
   "cell_type": "code",
   "execution_count": 9,
   "metadata": {},
   "outputs": [
    {
     "name": "stdout",
     "output_type": "stream",
     "text": [
      "slept1\n",
      "slept2\n",
      "https://www.jpl.nasa.gov/spaceimages/images/largesize/PIA18328_hires.jpg\n"
     ]
    }
   ],
   "source": [
    "time.sleep(1)\n",
    "print(\"slept1\")\n",
    "browser.click_link_by_partial_text('more info')\n",
    "time.sleep(1)\n",
    "print(\"slept2\")\n",
    "browser.click_link_by_partial_href(\"/spaceimages/images/largesize\")\n",
    "img = browser.url\n",
    "print(img)"
   ]
  },
  {
   "cell_type": "code",
   "execution_count": 14,
   "metadata": {},
   "outputs": [
    {
     "name": "stdout",
     "output_type": "stream",
     "text": [
      "slept\n",
      "InSight sol 363 (2019-12-04) low -99.8ºC (-147.6ºF) high -21.1ºC (-5.9ºF)\n",
      "winds from the SSE at 5.8 m/s (13.0 mph) gusting to 20.3 m/s (45.4 mph)\n",
      "pressure at 6.60 hPapic.twitter.com/pKG1TNMmQ2\n"
     ]
    }
   ],
   "source": [
    "url = \"https://twitter.com/marswxreport?lang=en\"\n",
    "browser.visit(url)\n",
    "time.sleep(2)\n",
    "print('slept')\n",
    "# mars_weather = browser.find_by_css('js-tweet-text-container')\n",
    "# mars_weather_p = browser.find_by_css('TweetTextSize TweetTextSize--normal js-tweet-text tweet-text')\n",
    "# mars_weather_a = browser.find_by_css('TweetTextSize TweetTextSize--normal js-tweet-text tweet-text').getAttribute(\"innerHTML\")\n",
    "\n",
    "html = browser.html\n",
    "soup = bs(html, 'html.parser')\n",
    "\n",
    "mars_weather = soup.find('p', class_='TweetTextSize TweetTextSize--normal js-tweet-text tweet-text').text\n",
    "\n",
    "# print(mars_weather)\n",
    "# print(mars_weather_p.text)\n",
    "print(mars_weather)"
   ]
  },
  {
   "cell_type": "code",
   "execution_count": null,
   "metadata": {},
   "outputs": [],
   "source": []
  },
  {
   "cell_type": "code",
   "execution_count": null,
   "metadata": {},
   "outputs": [],
   "source": []
  },
  {
   "cell_type": "code",
   "execution_count": null,
   "metadata": {},
   "outputs": [],
   "source": []
  },
  {
   "cell_type": "code",
   "execution_count": null,
   "metadata": {},
   "outputs": [],
   "source": []
  },
  {
   "cell_type": "code",
   "execution_count": null,
   "metadata": {},
   "outputs": [],
   "source": []
  },
  {
   "cell_type": "code",
   "execution_count": null,
   "metadata": {},
   "outputs": [],
   "source": [
    "# if(browser.is_element_present_by_text('more info', wait_time=5)):\n",
    "#     browser.click_link_by_partial_text('more info').click()\n",
    "# else: \n",
    "#     # sleep(10)\n",
    "#     print(\"no elemen t found 1\")\n",
    "#     # browser.click_link_by_partial_text('more info').click()\n",
    "# # driver.find_element_by_id(\"demo\").get_attribute(\"id\")\n",
    "# # href=\"/spaceimages/details.php?id=PIA18848\n",
    "\n",
    "# if (browser.is_element_present_by_css('main_ima1ge', wait_time=5)):\n",
    "#     browser.find_element_by_css(\"main_image\").get_attribute(\"src\")\n",
    "#     src = browser.find_element_by_css(\"main_image\").get_attribute(\"src\")\n",
    "# else: \n",
    "#     print(\"no element found 2\")\n",
    "\n",
    "        \n",
    "# # i = 1\n",
    "# # while i < 6:\n",
    "# #     if (browser.is_element_present_by_css('main_ima1ge', wait_time=5)):\n",
    "# #         browser.find_element_by_css(\"main_image\").get_attribute(\"src\")\n",
    "# #         src = browser.find_element_by_css(\"main_image\").get_attribute(\"src\")\n",
    "# #     else: \n",
    "# #         print(\"no element found 2\")\n",
    "        \n",
    "\n",
    "# # i = 1\n",
    "# # while i < 6:\n",
    "# #   print(i)\n",
    "# #   i += 1\n"
   ]
  },
  {
   "cell_type": "code",
   "execution_count": null,
   "metadata": {},
   "outputs": [],
   "source": [
    "#browser.find_element_by_css(\"main_image\").get_attribute(\"src\")\n",
    "# driver.find_element_by_id(\"demo\").get_attribute(\"id\")\n",
    "# brois_element_present_by_id(id, wait_time=None)\n"
   ]
  },
  {
   "cell_type": "code",
   "execution_count": null,
   "metadata": {},
   "outputs": [],
   "source": [
    "# Use splinter to navigate the site and find the image url for the current Featured Mars Image and assign the url string to a variable called featured_image_url.\n",
    "# browser.click_link_by_partial_href('javascript:;')\n",
    "# click_link_by_partial_href<a title=\"Display actual size\" class=\"fancybox-expand\" href=\"javascript:;\"></a>\n",
    "# Display actual size"
   ]
  },
  {
   "cell_type": "code",
   "execution_count": null,
   "metadata": {},
   "outputs": [],
   "source": []
  },
  {
   "cell_type": "code",
   "execution_count": null,
   "metadata": {},
   "outputs": [],
   "source": []
  }
 ],
 "metadata": {
  "kernelspec": {
   "display_name": "Python 3",
   "language": "python",
   "name": "python3"
  },
  "language_info": {
   "codemirror_mode": {
    "name": "ipython",
    "version": 3
   },
   "file_extension": ".py",
   "mimetype": "text/x-python",
   "name": "python",
   "nbconvert_exporter": "python",
   "pygments_lexer": "ipython3",
   "version": "3.7.3"
  }
 },
 "nbformat": 4,
 "nbformat_minor": 2
}
